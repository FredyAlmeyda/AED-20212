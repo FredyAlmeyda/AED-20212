{
  "nbformat": 4,
  "nbformat_minor": 0,
  "metadata": {
    "colab": {
      "name": "Análisis de algoritmo.ipynb",
      "provenance": [],
      "collapsed_sections": [],
      "include_colab_link": true
    },
    "kernelspec": {
      "name": "python3",
      "display_name": "Python 3"
    },
    "language_info": {
      "name": "python"
    }
  },
  "cells": [
    {
      "cell_type": "markdown",
      "metadata": {
        "id": "view-in-github",
        "colab_type": "text"
      },
      "source": [
        "<a href=\"https://colab.research.google.com/github/FredyAlmeyda/AED-20212/blob/main/s2/An%C3%A1lisis_de_algoritmo.ipynb\" target=\"_parent\"><img src=\"https://colab.research.google.com/assets/colab-badge.svg\" alt=\"Open In Colab\"/></a>"
      ]
    },
    {
      "cell_type": "markdown",
      "metadata": {
        "id": "Ts0fWthLAE__"
      },
      "source": [
        "#Ejercicio 1#\n"
      ]
    },
    {
      "cell_type": "code",
      "metadata": {
        "id": "3l8_96_9_zIo"
      },
      "source": [
        "%%writefile ejercicio1.cpp\n",
        "int s = 0;                                                      /1                                                                          \n",
        "double prom = 0;                                               /1\n",
        " for (int i = 0; i < n; i++) {                                 /1+n(1+3+3+2)+1\n",
        "s = s + A[i];                           \n",
        "prom = s / (double) n;\n",
        "} printf(\"Suma:%d\\nProm:%d\", s, prom);      /2\n",
        "/      1+1+1+n(1+3+3+2)+1+2= 2+n(9)+3\n",
        "/      9n+6\n"
      ],
      "execution_count": null,
      "outputs": []
    },
    {
      "cell_type": "markdown",
      "metadata": {
        "id": "ncwUWTo0CQWt"
      },
      "source": [
        "#Ejercicio 2#\n"
      ]
    },
    {
      "cell_type": "code",
      "metadata": {
        "id": "I22ZDyHHBgBc",
        "colab": {
          "base_uri": "https://localhost:8080/"
        },
        "outputId": "2c6168d4-73ee-4628-dfe6-bf52be35353a"
      },
      "source": [
        "%%writefile ejercicio2.cpp\n",
        "int s = 0;                                              /1\n",
        "double prom = 0;                                        /1\n",
        "for (int i = 0; i < n; i++) {                           /1+n(1+3+2)+1\n",
        "s = s + A[i];\n",
        "}\n",
        " prom = s / (double)n;                                  /3\n",
        "printf(\"Suma:%d\\nProm:%d\", s, prom); /2\n",
        "\n",
        "/1+1+1+n(1+3+2)+1+2=3+6n+3\n",
        "6n+6\n",
        "O(n)"
      ],
      "execution_count": 2,
      "outputs": [
        {
          "output_type": "stream",
          "text": [
            "Writing ejercicio2.cpp\n"
          ],
          "name": "stdout"
        }
      ]
    },
    {
      "cell_type": "markdown",
      "metadata": {
        "id": "BMjEA_6xCW7w"
      },
      "source": [
        "#Ejercicio 3#\n",
        "\n"
      ]
    },
    {
      "cell_type": "code",
      "metadata": {
        "id": "6TfiVrEGCVtX"
      },
      "source": [
        "%%writefile ejercicio3.cpp\n",
        "for (int i = 0; i < n - 1; i++) {   /1+(n-1)(1+ A+ 2)+1\n",
        "for (int k = i + 1; k < n; k++) {   /2+n(1+10+ 2)+1= A\n",
        "if (vec[i] > vec[k]) {  /3       \n",
        "int aux = vec[i];    /2\n",
        "vec[i] = vec[k];  / 3\n",
        "vec[k] = aux;     /2\n",
        "}\n",
        "}\n",
        "}\n",
        "\n",
        "2+(n-1)(1+(2+n(13)+1)+2) = 2+(n-1)(13n+6)\n",
        "O(n^2)"
      ],
      "execution_count": null,
      "outputs": []
    },
    {
      "cell_type": "markdown",
      "metadata": {
        "id": "Y0I2bgcrF3LE"
      },
      "source": [
        "#Ejercicio 4#"
      ]
    },
    {
      "cell_type": "code",
      "metadata": {
        "id": "1DHPpmQWF2RK"
      },
      "source": [
        "%%writefile ejercicio4.cpp\n",
        "int frec[101] = {0};      / 2    \n",
        "for (int i = 0; i < n; i++) {  / 1+n(1+3+2) +1\n",
        "frec[vec[i]]++;   a= a+ 1      / 3\n",
        "}\n",
        "int pos = 0;                       /1\n",
        "for (int i = 0; i < 101; i++) {          /1+101(1+A+2)+1 \n",
        "for (int k = 0; k < frec[i]; k++) {      /1+logn(1+ 4+2)+1  = A\n",
        "vec[pos] = i;  /2 \n",
        "pos++;  /2\n",
        "}\n",
        "}\n",
        "4+6n+3+101(3+ (2+ logn(7)))= 7+6n+101(5+ 7 log(n))\n",
        "O(log(n))"
      ],
      "execution_count": null,
      "outputs": []
    },
    {
      "cell_type": "markdown",
      "metadata": {
        "id": "LMfuCy1NIdyi"
      },
      "source": [
        "#Ejercicio 5#"
      ]
    },
    {
      "cell_type": "code",
      "metadata": {
        "id": "O-6w68aqIktl"
      },
      "source": [
        "%%writefile ejercicio5.cpp\n",
        "int i=0;                           /1\n",
        "int sum=0;                         /1 \n",
        "while (i < 100) {                  /1 + A\n",
        "if (i % 2 == 0) {    /A = 2+ 1+6n -------MAX\n",
        "for (int k = 0; k < n; k++) {  /1+n(1+3+2) +1\n",
        "sum += vec[i];\n",
        "}\n",
        "}\n",
        "else {              / B=  /1+6i\n",
        "for (int k=0; k<i; k++) {     /1+i(1+3+2)+1\n",
        "sum += vec[i];\n",
        "}\n",
        "}\n",
        "}\n",
        "\n",
        "3+4+6n\n",
        "O(n)"
      ],
      "execution_count": null,
      "outputs": []
    },
    {
      "cell_type": "markdown",
      "metadata": {
        "id": "Yfy_eKBiKuIk"
      },
      "source": [
        "#Ejercicio 6#"
      ]
    },
    {
      "cell_type": "code",
      "metadata": {
        "id": "WtoYfQvqKzUW"
      },
      "source": [
        "%%writefile ejercicio6.cpp\n",
        "\n",
        "int fact = 1;  /1\n",
        "for (int i = 2; i < n; i++) {  2+ n(1+2+2)+1\n",
        "fact *= i;\n",
        "}\n",
        "printf(\"Factorial: %d\", fact);  /1\n",
        "\n",
        "5+5n\n",
        "O(n)"
      ],
      "execution_count": null,
      "outputs": []
    },
    {
      "cell_type": "markdown",
      "metadata": {
        "id": "Z3_yts1hLOn4"
      },
      "source": [
        "#Ejercicio 7#"
      ]
    },
    {
      "cell_type": "code",
      "metadata": {
        "id": "pm9VnRhFLRyM"
      },
      "source": [
        "%%writefile ejercicio7.cpp\n",
        "int pos = -1;   /1\n",
        "for (int i = 0; i < n; i++) {   /1+n(1+ A+2) +1 \n",
        "if (strcmp(vec[i], cadBuscar) == 0) { A= log(n) +1\n",
        "pos = i;\n",
        "break;\n",
        "}\n",
        "}\n",
        "\n",
        "3+n(4+log(n))\n",
        "\n",
        "O(log(n))\n"
      ],
      "execution_count": null,
      "outputs": []
    },
    {
      "cell_type": "markdown",
      "metadata": {
        "id": "kyOTB5RRMbkN"
      },
      "source": [
        "#Ejercicio 8#"
      ]
    },
    {
      "cell_type": "code",
      "metadata": {
        "colab": {
          "base_uri": "https://localhost:8080/"
        },
        "id": "5RmcCJCSMoRL",
        "outputId": "8b3f2a23-03e8-47bc-b3f5-5a804693e9ae"
      },
      "source": [
        "%%writefile ejercicio8.cpp\n",
        "int pos = 0;  /1\n",
        "for (int i = 1; i < n; i++) {     1+ n(1+ 4+2)+1\n",
        "if (vec[i] > vec[pos])   /3\n",
        "pos = i; /1 \n",
        "}\n",
        "printf(\"El mayor es: %d\", vec[pos]); 1\n",
        "\n",
        "4+7n\n",
        "\n",
        "O(n)"
      ],
      "execution_count": 3,
      "outputs": [
        {
          "output_type": "stream",
          "text": [
            "Writing ejercicio8.cpp\n"
          ],
          "name": "stdout"
        }
      ]
    },
    {
      "cell_type": "markdown",
      "metadata": {
        "id": "ngSc9nBINnKd"
      },
      "source": [
        "#Ejercicio 9#"
      ]
    },
    {
      "cell_type": "code",
      "metadata": {
        "id": "2CEX-bh4NmFC"
      },
      "source": [
        "%%writefile ejercicio9.cpp\n",
        "int max = 0;                            /1\n",
        "for (int m = 0; m < n; m++) {           /1+ n(1+13+2) +1\n",
        "int cont = 0;  /1\n",
        "int k = m + 1; /2 \n",
        "while (vec[m] <= vec[k]) {    /4\n",
        "k = k + 1;  /2\n",
        "cont++;     /2\n",
        "}\n",
        "if (cont > max)  /1\n",
        "max = cont;  /1\n",
        "}\n",
        "printf(\"Maximo %d\", max); /1\n",
        "\n",
        "4+ 16n\n",
        "O(n)"
      ],
      "execution_count": null,
      "outputs": []
    },
    {
      "cell_type": "markdown",
      "metadata": {
        "id": "XnuluErfPfJh"
      },
      "source": [
        "#Ejercicio 10#"
      ]
    },
    {
      "cell_type": "code",
      "metadata": {
        "id": "YtrWfjx_O_qk"
      },
      "source": [
        "%%writefile ejercicio10.cpp\n",
        "int i=1;               /1\n",
        "while (i < n) {        /log(n)(5)\n",
        "if (vec[i] % 2 == 0)   /3\n",
        "i *= 3;                /2\n",
        "else\n",
        "i *= 2;\n",
        "}\n",
        "1+5 log(n)\n",
        "\n",
        "O(log(n))"
      ],
      "execution_count": null,
      "outputs": []
    },
    {
      "cell_type": "markdown",
      "metadata": {
        "id": "_XEyn2TpQgeA"
      },
      "source": [
        "#Ejercicio 11#"
      ]
    },
    {
      "cell_type": "code",
      "metadata": {
        "id": "3Chp07SAQmCG"
      },
      "source": [
        "%%writefile ejercicio11.cpp\n",
        "int i=1;     /1\n",
        "while (i < n) {   log(n)(5)\n",
        "if (vec[i] % 2 == 0)   3\n",
        "n = n / 3;    /2\n",
        "else\n",
        "n = n / 2; /2\n",
        "}\n",
        "\n",
        "1+5 log(n)"
      ],
      "execution_count": null,
      "outputs": []
    },
    {
      "cell_type": "markdown",
      "metadata": {
        "id": "4b-madRiRMUl"
      },
      "source": [
        "#Ejercicio 12#"
      ]
    },
    {
      "cell_type": "code",
      "metadata": {
        "id": "YgkSe5BHRTqP"
      },
      "source": [
        "%%writefile ejercicio12.cpp\n",
        "int inf = 0;   /1\n",
        "int sup = n - 1;    /2\n",
        "int pos = -1;   /1\n",
        "while ((pos == -1) && (sup >= inf)) {   \n",
        "int medio = (inf + sup) / 2;\n",
        "if (arreglo[medio] == 80)\n",
        "pos = medio;\n",
        "else if (arreglo[medio] < 80)\n",
        "inf = medio + 1;\n",
        "else\n",
        "sup = medio - 1;\n",
        "}"
      ],
      "execution_count": null,
      "outputs": []
    }
  ]
}